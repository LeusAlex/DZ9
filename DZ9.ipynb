{
 "cells": [
  {
   "cell_type": "code",
   "execution_count": 3,
   "id": "762126c5",
   "metadata": {},
   "outputs": [
    {
     "name": "stdout",
     "output_type": "stream",
     "text": [
      "Введите номер. Для окончания нажмите \"q\" 4444BC34\n",
      "Номер 4444BC валиден. Регион: 34. \n",
      "\n",
      "Введите номер. Для окончания нажмите \"q\" A956BC96\n",
      "Номер A956BC валиден. Регион: 96. \n",
      "\n",
      "Введите номер. Для окончания нажмите \"q\" A948PI97\n",
      "Номер не валиден. \n",
      "\n",
      "Введите номер. Для окончания нажмите \"q\" q\n",
      "Стоп\n"
     ]
    }
   ],
   "source": [
    "import re\n",
    "\n",
    "def check_car_id(car_id):\n",
    "    # Паттерны для валидации номера автомобиля и мотоцикла\n",
    "    pattern = r'^[ABEPKMHOPCTYXАВЕРКМНОРСТУХ]{1}\\d{3}[ABEKMNOPCTYXАВЕРКМНОРСТУХ]{2}\\d{2,3}$'\n",
    "    pattern_moto = r'^\\d{4}[ABEKMNOPCTYXАВЕРКМНОРСТУХ]{2}\\d{2,3}$'\n",
    "    \n",
    "    # Проверка на соответствие паттерну\n",
    "    if re.match(pattern, car_id) or re.match(pattern_moto, car_id):  \n",
    "        number = car_id[:6]\n",
    "        region = car_id[6:]\n",
    "        return f'Номер {number} валиден. Регион: {region}.'\n",
    "    else:      \n",
    "        return 'Номер не валиден.'\n",
    "    \n",
    "\n",
    "car_id = ''\n",
    "while car_id != 'q':\n",
    "    car_id=input('Введите номер. Для окончания нажмите \"q\" ')\n",
    "    if car_id == 'q' :\n",
    "        print('Стоп')\n",
    "    else:\n",
    "        result = check_car_id(car_id)\n",
    "        print(result, '\\n')\n",
    "\n"
   ]
  }
 ],
 "metadata": {
  "kernelspec": {
   "display_name": "Python 3 (ipykernel)",
   "language": "python",
   "name": "python3"
  },
  "language_info": {
   "codemirror_mode": {
    "name": "ipython",
    "version": 3
   },
   "file_extension": ".py",
   "mimetype": "text/x-python",
   "name": "python",
   "nbconvert_exporter": "python",
   "pygments_lexer": "ipython3",
   "version": "3.11.5"
  }
 },
 "nbformat": 4,
 "nbformat_minor": 5
}
